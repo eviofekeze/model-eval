{
 "cells": [
  {
   "cell_type": "code",
   "execution_count": 49,
   "id": "6de785ea-2c08-4201-97a4-eb1a9db17150",
   "metadata": {},
   "outputs": [],
   "source": [
    "import dataIO_funcs\n",
    "# from datetime import datetime\n",
    "import datetime\n",
    "import numpy as np\n",
    "import dateutil.parser\n",
    "import os\n",
    "import subprocess\n",
    "from snowexsql.db import get_db\n",
    "from snowexsql.data import LayerData,PointData,ImageData# Import the function to get connect to the db\n",
    "from snowexsql.conversions import query_to_geopandas # Import a useful function to format that data into a dataframe \n",
    "import geopandas as gpd\n",
    "import pandas as pd\n",
    "from shapely.geometry import Point, LineString, Polygon\n",
    "import folium\n",
    "import matplotlib.pyplot as plt"
   ]
  },
  {
   "cell_type": "code",
   "execution_count": null,
   "id": "0dbcb82b-53c4-4e03-ba5c-e7fc616d8a34",
   "metadata": {},
   "outputs": [],
   "source": [
    "EXPLAIN ALL THE DATA INPUTS, & HOW THE NOTEBOOK IS ORGANIZED"
   ]
  },
  {
   "cell_type": "code",
   "execution_count": 79,
   "id": "caa93aff-1710-47ba-8aeb-68679734b37a",
   "metadata": {},
   "outputs": [],
   "source": [
    "# specify paths\n",
    "bucket_name = 'eis-dh-hydro/SNOWEX-HACKWEEK'\n",
    "LIS_path = f's3://{bucket_name}/2022/ZARR/SURFACEMODEL/LIS_HIST_default_chunks.d01.zarr/'\n",
    "# LIS_path = f's3://{bucket_name}/2022/ZARR/SURFACEMODEL/LIS_HIST_rechunkedV4.d01.zarr'\n",
    "SWESARR_url = 'https://glihtdata.gsfc.nasa.gov/files/radar/SWESARR/prerelease/'\n",
    "\n",
    "# SWESARR data website\n",
    "source_repo = 'https://glihtdata.gsfc.nasa.gov/files/radar/SWESARR/prerelease/'\n",
    "\n",
    "# specify filters\n",
    "time_sel='2020-02-08'\n",
    "lat_range = [39.01629, 39.02229]\n",
    "lon_range = [-108.21, -108.175]\n",
    "model_variable = ['SM_SWE_inst','SM_SnowDepth_inst']\n",
    "dx = 0.0011\n",
    "dy = 0.0009\n",
    "time_buffer_dy = 2\n",
    "\n",
    "db_name = 'snow:hackweek@db.snowexdata.org/snowex' # This is what you will use for all of hackweek to access the db\n",
    "type_name = 'point'\n",
    "var_name = 'depth'\n"
   ]
  },
  {
   "cell_type": "code",
   "execution_count": 102,
   "id": "e213b896-5b12-4112-a6f7-a339df2665f3",
   "metadata": {},
   "outputs": [
    {
     "data": {
      "text/html": [
       "<div style=\"width:100%;\"><div style=\"position:relative;width:100%;height:0;padding-bottom:60%;\"><span style=\"color:#565656\">Make this Notebook Trusted to load map: File -> Trust Notebook</span><iframe srcdoc=\"&lt;!DOCTYPE html&gt;\n",
       "&lt;head&gt;    \n",
       "    &lt;meta http-equiv=&quot;content-type&quot; content=&quot;text/html; charset=UTF-8&quot; /&gt;\n",
       "    \n",
       "        &lt;script&gt;\n",
       "            L_NO_TOUCH = false;\n",
       "            L_DISABLE_3D = false;\n",
       "        &lt;/script&gt;\n",
       "    \n",
       "    &lt;style&gt;html, body {width: 100%;height: 100%;margin: 0;padding: 0;}&lt;/style&gt;\n",
       "    &lt;style&gt;#map {position:absolute;top:0;bottom:0;right:0;left:0;}&lt;/style&gt;\n",
       "    &lt;script src=&quot;https://cdn.jsdelivr.net/npm/leaflet@1.6.0/dist/leaflet.js&quot;&gt;&lt;/script&gt;\n",
       "    &lt;script src=&quot;https://code.jquery.com/jquery-1.12.4.min.js&quot;&gt;&lt;/script&gt;\n",
       "    &lt;script src=&quot;https://maxcdn.bootstrapcdn.com/bootstrap/3.2.0/js/bootstrap.min.js&quot;&gt;&lt;/script&gt;\n",
       "    &lt;script src=&quot;https://cdnjs.cloudflare.com/ajax/libs/Leaflet.awesome-markers/2.0.2/leaflet.awesome-markers.js&quot;&gt;&lt;/script&gt;\n",
       "    &lt;link rel=&quot;stylesheet&quot; href=&quot;https://cdn.jsdelivr.net/npm/leaflet@1.6.0/dist/leaflet.css&quot;/&gt;\n",
       "    &lt;link rel=&quot;stylesheet&quot; href=&quot;https://maxcdn.bootstrapcdn.com/bootstrap/3.2.0/css/bootstrap.min.css&quot;/&gt;\n",
       "    &lt;link rel=&quot;stylesheet&quot; href=&quot;https://maxcdn.bootstrapcdn.com/bootstrap/3.2.0/css/bootstrap-theme.min.css&quot;/&gt;\n",
       "    &lt;link rel=&quot;stylesheet&quot; href=&quot;https://maxcdn.bootstrapcdn.com/font-awesome/4.6.3/css/font-awesome.min.css&quot;/&gt;\n",
       "    &lt;link rel=&quot;stylesheet&quot; href=&quot;https://cdnjs.cloudflare.com/ajax/libs/Leaflet.awesome-markers/2.0.2/leaflet.awesome-markers.css&quot;/&gt;\n",
       "    &lt;link rel=&quot;stylesheet&quot; href=&quot;https://cdn.jsdelivr.net/gh/python-visualization/folium/folium/templates/leaflet.awesome.rotate.min.css&quot;/&gt;\n",
       "    \n",
       "            &lt;meta name=&quot;viewport&quot; content=&quot;width=device-width,\n",
       "                initial-scale=1.0, maximum-scale=1.0, user-scalable=no&quot; /&gt;\n",
       "            &lt;style&gt;\n",
       "                #map_eed0881f44043276122352d09a908ec1 {\n",
       "                    position: relative;\n",
       "                    width: 100.0%;\n",
       "                    height: 100.0%;\n",
       "                    left: 0.0%;\n",
       "                    top: 0.0%;\n",
       "                }\n",
       "            &lt;/style&gt;\n",
       "        \n",
       "&lt;/head&gt;\n",
       "&lt;body&gt;    \n",
       "    \n",
       "            &lt;div class=&quot;folium-map&quot; id=&quot;map_eed0881f44043276122352d09a908ec1&quot; &gt;&lt;/div&gt;\n",
       "        \n",
       "&lt;/body&gt;\n",
       "&lt;script&gt;    \n",
       "    \n",
       "            var map_eed0881f44043276122352d09a908ec1 = L.map(\n",
       "                &quot;map_eed0881f44043276122352d09a908ec1&quot;,\n",
       "                {\n",
       "                    center: [39.01929, -108.1925],\n",
       "                    crs: L.CRS.EPSG3857,\n",
       "                    zoom: 11,\n",
       "                    zoomControl: true,\n",
       "                    preferCanvas: false,\n",
       "                    name: &quot;Esri Satellite&quot;,\n",
       "                }\n",
       "            );\n",
       "\n",
       "            \n",
       "\n",
       "        \n",
       "    \n",
       "            var tile_layer_0a7b14da5abf3a389d132886e58ab200 = L.tileLayer(\n",
       "                &quot;https://{s}.tile.openstreetmap.org/{z}/{x}/{y}.png&quot;,\n",
       "                {&quot;attribution&quot;: &quot;Data by \\u0026copy; \\u003ca href=\\&quot;http://openstreetmap.org\\&quot;\\u003eOpenStreetMap\\u003c/a\\u003e, under \\u003ca href=\\&quot;http://www.openstreetmap.org/copyright\\&quot;\\u003eODbL\\u003c/a\\u003e.&quot;, &quot;detectRetina&quot;: false, &quot;maxNativeZoom&quot;: 18, &quot;maxZoom&quot;: 18, &quot;minZoom&quot;: 0, &quot;noWrap&quot;: false, &quot;opacity&quot;: 1, &quot;subdomains&quot;: &quot;abc&quot;, &quot;tms&quot;: false}\n",
       "            ).addTo(map_eed0881f44043276122352d09a908ec1);\n",
       "        \n",
       "    \n",
       "            var poly_line_b995f5b0efa8c9ec06ef3df7f0f321d1 = L.polyline(\n",
       "                [[39.02229, -108.21], [39.02229, -108.175]],\n",
       "                {&quot;bubblingMouseEvents&quot;: true, &quot;color&quot;: &quot;blue&quot;, &quot;dashArray&quot;: null, &quot;dashOffset&quot;: null, &quot;fill&quot;: false, &quot;fillColor&quot;: &quot;blue&quot;, &quot;fillOpacity&quot;: 0.2, &quot;fillRule&quot;: &quot;evenodd&quot;, &quot;lineCap&quot;: &quot;round&quot;, &quot;lineJoin&quot;: &quot;round&quot;, &quot;noClip&quot;: false, &quot;opacity&quot;: 0.8, &quot;smoothFactor&quot;: 1.0, &quot;stroke&quot;: true, &quot;weight&quot;: 2}\n",
       "            ).addTo(map_eed0881f44043276122352d09a908ec1);\n",
       "        \n",
       "    \n",
       "            var poly_line_7b5cfd2b1fe0a294441906113c2809f5 = L.polyline(\n",
       "                [[39.01629, -108.21], [39.01629, -108.175]],\n",
       "                {&quot;bubblingMouseEvents&quot;: true, &quot;color&quot;: &quot;blue&quot;, &quot;dashArray&quot;: null, &quot;dashOffset&quot;: null, &quot;fill&quot;: false, &quot;fillColor&quot;: &quot;blue&quot;, &quot;fillOpacity&quot;: 0.2, &quot;fillRule&quot;: &quot;evenodd&quot;, &quot;lineCap&quot;: &quot;round&quot;, &quot;lineJoin&quot;: &quot;round&quot;, &quot;noClip&quot;: false, &quot;opacity&quot;: 0.8, &quot;smoothFactor&quot;: 1.0, &quot;stroke&quot;: true, &quot;weight&quot;: 2}\n",
       "            ).addTo(map_eed0881f44043276122352d09a908ec1);\n",
       "        \n",
       "    \n",
       "            var poly_line_c0e6b4416a7f425c4aef7895b0200c18 = L.polyline(\n",
       "                [[39.02229, -108.21], [39.01629, -108.21]],\n",
       "                {&quot;bubblingMouseEvents&quot;: true, &quot;color&quot;: &quot;blue&quot;, &quot;dashArray&quot;: null, &quot;dashOffset&quot;: null, &quot;fill&quot;: false, &quot;fillColor&quot;: &quot;blue&quot;, &quot;fillOpacity&quot;: 0.2, &quot;fillRule&quot;: &quot;evenodd&quot;, &quot;lineCap&quot;: &quot;round&quot;, &quot;lineJoin&quot;: &quot;round&quot;, &quot;noClip&quot;: false, &quot;opacity&quot;: 0.8, &quot;smoothFactor&quot;: 1.0, &quot;stroke&quot;: true, &quot;weight&quot;: 2}\n",
       "            ).addTo(map_eed0881f44043276122352d09a908ec1);\n",
       "        \n",
       "    \n",
       "            var poly_line_76dd2cc9f9e30467cd0188717d945ef5 = L.polyline(\n",
       "                [[39.01629, -108.175], [39.02229, -108.175]],\n",
       "                {&quot;bubblingMouseEvents&quot;: true, &quot;color&quot;: &quot;blue&quot;, &quot;dashArray&quot;: null, &quot;dashOffset&quot;: null, &quot;fill&quot;: false, &quot;fillColor&quot;: &quot;blue&quot;, &quot;fillOpacity&quot;: 0.2, &quot;fillRule&quot;: &quot;evenodd&quot;, &quot;lineCap&quot;: &quot;round&quot;, &quot;lineJoin&quot;: &quot;round&quot;, &quot;noClip&quot;: false, &quot;opacity&quot;: 0.8, &quot;smoothFactor&quot;: 1.0, &quot;stroke&quot;: true, &quot;weight&quot;: 2}\n",
       "            ).addTo(map_eed0881f44043276122352d09a908ec1);\n",
       "        \n",
       "&lt;/script&gt;\" style=\"position:absolute;width:100%;height:100%;left:0;top:0;border:none !important;\" allowfullscreen webkitallowfullscreen mozallowfullscreen></iframe></div></div>"
      ],
      "text/plain": [
       "<folium.folium.Map at 0x7fa4b9288220>"
      ]
     },
     "execution_count": 102,
     "metadata": {},
     "output_type": "execute_result"
    }
   ],
   "source": [
    "map=folium.Map(location=[np.mean(lat_range), np.mean(lon_range)],\n",
    "               zoom_start=11,name = 'Esri Satellite',)\n",
    "\n",
    "north = lat_range[1]\n",
    "south = lat_range[0]\n",
    "east = lon_range[1]\n",
    "west = lon_range[0]\n",
    "\n",
    "#adding lines connecting the markers\n",
    "loc_1 = [(north, west),(north, east)]\n",
    "loc_2 = [(south, west),(south, east)]\n",
    "loc_3 = [(north, west),(south, west)]\n",
    "loc_4 = [(south, east),(north, east)]\n",
    "\n",
    "folium.PolyLine(loc_1,color='blue',weight=2,opacity=0.8).add_to(map)\n",
    "folium.PolyLine(loc_2,color='blue',weight=2,opacity=0.8).add_to(map)\n",
    "folium.PolyLine(loc_3,color='blue',weight=2,opacity=0.8).add_to(map)\n",
    "folium.PolyLine(loc_4,color='blue',weight=2,opacity=0.8).add_to(map)\n",
    "\n",
    "map"
   ]
  },
  {
   "cell_type": "code",
   "execution_count": null,
   "id": "1f60c269-928e-4f38-8a15-2099a4f74043",
   "metadata": {},
   "outputs": [],
   "source": [
    "ADD AN IMAGE SHOWING THE SATELLITE IMAGERY FOR THIS DOMAIN AS WELL!"
   ]
  },
  {
   "cell_type": "code",
   "execution_count": null,
   "id": "93dc8b83-9fa6-4cad-b772-aabfe87789f9",
   "metadata": {},
   "outputs": [],
   "source": [
    "ADD A CELL EXPLAINING THE LIS DATA DOWNLOAD\n",
    "EXPLAIN HOW COOL ESMF IS"
   ]
  },
  {
   "cell_type": "code",
   "execution_count": 46,
   "id": "addd942d-f7ef-41d8-9d93-b4bc06e97f6a",
   "metadata": {},
   "outputs": [],
   "source": [
    "buffer = 0.001\n",
    "lat_range_LIS = [lat_range[0]-buffer,lat_range[1]+buffer]\n",
    "lon_range_LIS = [lon_range[0]-buffer,lon_range[1]+buffer]\n",
    "ds_LIS = dataIO_funcs.access_LIS(lon_range_LIS,lat_range_LIS,time_sel,\n",
    "                             model_variable,LIS_path,dx,dy,'bilinear')"
   ]
  },
  {
   "cell_type": "code",
   "execution_count": 124,
   "id": "6272b426-1631-4102-8a02-a5bd39cc1c77",
   "metadata": {},
   "outputs": [
    {
     "data": {
      "text/plain": [
       "<sqlalchemy.orm.query.Query at 0x7fa4be5e7190>"
      ]
     },
     "execution_count": 124,
     "metadata": {},
     "output_type": "execute_result"
    }
   ],
   "source": [
    "# open the session\n",
    "time_buffer_dy = 0\n",
    "\n",
    "engine, session = get_db(db_name)\n",
    "\n",
    "# do date filtering\n",
    "layerDates = session.query(LayerData.date).distinct().all()\n",
    "\n",
    "time_sel_newForm = dateutil.parser.parse(time_sel)\n",
    "start_date = time_sel_newForm-datetime.timedelta(days=time_buffer_dy)\n",
    "start_date = start_date.date()\n",
    "end_date = time_sel_newForm+datetime.timedelta(days=time_buffer_dy)\n",
    "end_date = end_date.date()\n",
    "\n",
    "filtered_dates = date_between_prime_snowEx(start_date, end_date, pointDates)\n",
    "filtered_dates\n",
    "\n",
    "# query the dataset and concatenate\n",
    "q = session.query(LayerData).filter(PointData.type == var_name) \n",
    "\n",
    "q\n",
    "\n",
    "# data_day_list = []\n",
    "# for dt_count,dtt in enumerate(filtered_dates):\n",
    "#     print(dtt)\n",
    "#     dt_sel = datetime.date(dtt[0].year,dtt[0].month,dtt[0].day)\n",
    "#     q_sub = q.filter(PointData.date == dt_sel)\n",
    "#     df = query_to_geopandas(q_sub, engine)\n",
    "\n",
    "#     # i think this is what you do to concatenate??\n",
    "#     data_day_list.append(df)\n",
    "# df_concat = pd.concat(data_day_list)\n",
    "# df_concat_gpd = gpd.GeoDataFrame(df_concat)\n",
    "\n",
    "# session.close()\n",
    "\n",
    "# # list of coordindate pairs\n",
    "# coordinates = [[ lon_range[0], lat_range[0] ], [ lon_range[1], lat_range[0] ], [ lon_range[1], lat_range[1]], [lon_range[0], lat_range[1]]]        \n",
    "# print(coordinates)\n",
    "# # Create a Shapely polygon from the coordinate-tuple list\n",
    "# ply_coord = Polygon(coordinates)\n",
    "# # create a dictionary with needed attributes and required geometry column\n",
    "# df = {'Attribute': ['name1'], 'geometry': ply_coord}\n",
    "# # Convert shapely object to a geodataframe \n",
    "# poly = gpd.GeoDataFrame(df, geometry='geometry', crs =\"EPSG:4326\").to_crs(\"EPSG:26912\")\n",
    "# df_clipped = gpd.clip(df_concat_gpd, poly)"
   ]
  },
  {
   "cell_type": "code",
   "execution_count": null,
   "id": "62f37a59-3823-4868-b9fe-f6c0b8315ff8",
   "metadata": {},
   "outputs": [
    {
     "name": "stderr",
     "output_type": "stream",
     "text": [
      "/tmp/ipykernel_3936/483347798.py:1: SAWarning: SELECT statement has a cartesian product between FROM element(s) \"public.points\" and FROM element \"public.layers\".  Apply join condition(s) between each element to resolve.\n",
      "  q.all()\n"
     ]
    }
   ],
   "source": [
    "# site_name = 'Grand Mesa'\n",
    "# collection_date = date(2020, 2, 13)\n",
    "# # Remember in the query parentheses is what we get back, in this case were asking for the raster data as a geotiff\n",
    "# result = session.query(func.ST_AsTiff(gfunc.ST_Union(ImageData.raster, _type=Raster))).filter(SiteData.site_name == site_name).filter(ImageData.date == collection_date).filter(ImageData.instrument == 'lidar').filter(ImageData.type == 'depth')"
   ]
  },
  {
   "cell_type": "code",
   "execution_count": null,
   "id": "f89bf02a-0d16-424e-84eb-cafb27d9ecc8",
   "metadata": {},
   "outputs": [],
   "source": [
    "DO LIDAR DOWNLOAD HERE, SAVE THE LIDAR SO WE HAVE THIS AT THE SAME RESOLUTION AS WELL"
   ]
  },
  {
   "cell_type": "code",
   "execution_count": null,
   "id": "f860d0fe-6e74-4c02-8f78-1d8b4e909388",
   "metadata": {},
   "outputs": [],
   "source": [
    "THEN, DO THE POINT DOWNLOAD HERE"
   ]
  },
  {
   "cell_type": "code",
   "execution_count": null,
   "id": "0f7525c7-6271-4126-bbc3-d78a310d675c",
   "metadata": {},
   "outputs": [],
   "source": [
    "RUBBER MEETS THE ROAD! INTERACTIVE PLOT SHOWING THE 1) NATIVE-RES LIDAR, 2) REGRIDDED LIDAR\n",
    "3) MODEL OUTPUT (EACH OF THOSE THREE HAVE THE FIELD CAMPAIGN OVER IT)"
   ]
  },
  {
   "cell_type": "code",
   "execution_count": null,
   "id": "de747116-31e3-4433-a9a0-b5150ea8c589",
   "metadata": {},
   "outputs": [],
   "source": [
    "USE VALERIE SCRIPT TO DO DATA COMPARISON!"
   ]
  },
  {
   "cell_type": "code",
   "execution_count": null,
   "id": "f6fb57b3-977a-4092-a619-e3190e6c03da",
   "metadata": {},
   "outputs": [],
   "source": []
  },
  {
   "cell_type": "code",
   "execution_count": null,
   "id": "e7dbe294-7eb4-4ec7-a6da-817f24e2112a",
   "metadata": {},
   "outputs": [],
   "source": []
  },
  {
   "cell_type": "code",
   "execution_count": null,
   "id": "a4c8a934-0021-4793-ac6e-dc7fc5eca980",
   "metadata": {},
   "outputs": [],
   "source": []
  },
  {
   "cell_type": "code",
   "execution_count": null,
   "id": "ae2c9eab-1b50-4ba8-b0df-c375291e81ce",
   "metadata": {},
   "outputs": [],
   "source": []
  },
  {
   "cell_type": "code",
   "execution_count": 55,
   "id": "e10cf356-8b9a-469e-95bf-766414c6d261",
   "metadata": {},
   "outputs": [
    {
     "data": {
      "text/plain": [
       "(39.01629, 39.02229)"
      ]
     },
     "execution_count": 55,
     "metadata": {},
     "output_type": "execute_result"
    },
    {
     "data": {
      "image/png": "[encoded data removed]",
      "text/plain": [
       "<Figure size 864x216 with 2 Axes>"
      ]
     },
     "metadata": {
      "needs_background": "light"
     },
     "output_type": "display_data"
    }
   ],
   "source": [
    "fg,ax = plt.subplots(figsize=(12,3))\n",
    "ds_LIS['SM_SnowDepth_inst'].plot(ax=ax)\n",
    "ax.set_xlim(lon_range)\n",
    "ax.set_ylim(lat_range)"
   ]
  },
  {
   "cell_type": "code",
   "execution_count": 103,
   "id": "2023b0fe-db21-4d97-a0e0-2ad917c54f32",
   "metadata": {},
   "outputs": [
    {
     "data": {
      "text/plain": [
       "<matplotlib.collections.QuadMesh at 0x7fa4b8bb63b0>"
      ]
     },
     "execution_count": 103,
     "metadata": {},
     "output_type": "execute_result"
    },
    {
     "data": {
      "image/png": "[encoded data removed]",
      "text/plain": [
       "<Figure size 864x216 with 2 Axes>"
      ]
     },
     "metadata": {
      "needs_background": "light"
     },
     "output_type": "display_data"
    }
   ],
   "source": [
    "# show both comparisons (before/after reprojections)\n",
    "\n",
    "import rioxarray as rxr\n",
    "ds2 = rxr.open_rasterio('raster_depth.tif')\n",
    "fg,ax = plt.subplots(figsize=(12,3))\n",
    "\n",
    "outt = ds2.rio.reproject_match(ds_LIS)\n",
    "outt.plot(ax=ax)\n",
    "# (outt-ds_LIS['SM_SnowDepth_inst']).plot(ax=ax)"
   ]
  },
  {
   "cell_type": "code",
   "execution_count": 56,
   "id": "86f32069-da9b-4baa-b043-b96551dbcbe4",
   "metadata": {},
   "outputs": [],
   "source": [
    "def date_between_prime_snowEx(start_date, end_date, folder_date):\n",
    "    result = [folder_date[i] for i in range(len(folder_date)) if (folder_date[i].date >= start_date and folder_date[i].date <= end_date)]\n",
    "    return result"
   ]
  },
  {
   "cell_type": "code",
   "execution_count": 106,
   "id": "ee1c493e-5573-45cb-ab32-f37d34bcb2bd",
   "metadata": {},
   "outputs": [
    {
     "name": "stdout",
     "output_type": "stream",
     "text": [
      "(datetime.date(2020, 2, 8),)\n",
      "[[-108.21, 39.01629], [-108.175, 39.01629], [-108.175, 39.02229], [-108.21, 39.02229]]\n"
     ]
    }
   ],
   "source": [
    "# open the session\n",
    "time_buffer_dy = 0\n",
    "var_name = 'depth'\n",
    "\n",
    "engine, session = get_db(db_name)\n",
    "\n",
    "# do date filtering\n",
    "pointDates = session.query(PointData.date).distinct().all()\n",
    "\n",
    "time_sel_newForm = dateutil.parser.parse(time_sel)\n",
    "start_date = time_sel_newForm-datetime.timedelta(days=time_buffer_dy)\n",
    "start_date = start_date.date()\n",
    "end_date = time_sel_newForm+datetime.timedelta(days=time_buffer_dy)\n",
    "end_date = end_date.date()\n",
    "\n",
    "filtered_dates = date_between_prime_snowEx(start_date, end_date, pointDates)\n",
    "\n",
    "# query the dataset and concatenate\n",
    "q = session.query(PointData).filter(PointData.type == var_name)   \n",
    "\n",
    "data_day_list = []\n",
    "for dt_count,dtt in enumerate(filtered_dates):\n",
    "    print(dtt)\n",
    "    dt_sel = datetime.date(dtt[0].year,dtt[0].month,dtt[0].day)\n",
    "    q_sub = q.filter(PointData.date == dt_sel)\n",
    "    df = query_to_geopandas(q_sub, engine)\n",
    "\n",
    "    # i think this is what you do to concatenate??\n",
    "    data_day_list.append(df)\n",
    "df_concat = pd.concat(data_day_list)\n",
    "df_concat_gpd = gpd.GeoDataFrame(df_concat)\n",
    "\n",
    "session.close()\n",
    "\n",
    "# list of coordindate pairs\n",
    "coordinates = [[ lon_range[0], lat_range[0] ], [ lon_range[1], lat_range[0] ], [ lon_range[1], lat_range[1]], [lon_range[0], lat_range[1]]]        \n",
    "print(coordinates)\n",
    "# Create a Shapely polygon from the coordinate-tuple list\n",
    "ply_coord = Polygon(coordinates)\n",
    "# create a dictionary with needed attributes and required geometry column\n",
    "df = {'Attribute': ['name1'], 'geometry': ply_coord}\n",
    "# Convert shapely object to a geodataframe \n",
    "poly = gpd.GeoDataFrame(df, geometry='geometry', crs =\"EPSG:4326\").to_crs(\"EPSG:26912\")\n",
    "df_clipped = gpd.clip(df_concat_gpd, poly)"
   ]
  },
  {
   "cell_type": "code",
   "execution_count": 114,
   "id": "7e03c2cc-d876-4740-a842-0084ed18ef60",
   "metadata": {},
   "outputs": [
    {
     "data": {
      "text/plain": [
       "<matplotlib.collections.PathCollection at 0x7fa4bde95150>"
      ]
     },
     "execution_count": 114,
     "metadata": {},
     "output_type": "execute_result"
    },
    {
     "data": {
      "image/png": "[encoded data removed]",
      "text/plain": [
       "<Figure size 432x288 with 1 Axes>"
      ]
     },
     "metadata": {
      "needs_background": "light"
     },
     "output_type": "display_data"
    }
   ],
   "source": [
    "plt.scatter(df_clipped.longitude,df_clipped.latitude)"
   ]
  },
  {
   "cell_type": "code",
   "execution_count": 107,
   "id": "d91aec15-f3bd-4f33-9388-598330e6d75c",
   "metadata": {
    "tags": []
   },
   "outputs": [
    {
     "data": {
      "text/plain": [
       "<matplotlib.collections.PathCollection at 0x7fa49bd652d0>"
      ]
     },
     "execution_count": 107,
     "metadata": {},
     "output_type": "execute_result"
    },
    {
     "data": {
      "image/png": "[encoded data removed]",
      "text/plain": [
       "<Figure size 864x216 with 2 Axes>"
      ]
     },
     "metadata": {
      "needs_background": "light"
     },
     "output_type": "display_data"
    }
   ],
   "source": [
    "df_reproj = df_clipped.to_crs(\"EPSG:4326\")\n",
    "vvmin = 0\n",
    "vvmax = 1.2\n",
    "\n",
    "fg,ax = plt.subplots(figsize=(12,3))\n",
    "out = ds_LIS['SM_SnowDepth_inst'].plot(vmin=vvmin,vmax=vvmax,\n",
    "                                       cmap='Blues',ax=ax)\n",
    "ax.set_xlim(lon_range)\n",
    "ax.set_ylim(lat_range)\n",
    "\n",
    "ax.scatter(df_reproj.geometry.x,df_reproj.geometry.y,4,df_reproj.value/100,\n",
    "          vmin=vvmin,vmax=vvmax,cmap='Blues')\n",
    "\n"
   ]
  },
  {
   "cell_type": "code",
   "execution_count": 105,
   "id": "f9487250-37e9-4a5f-af43-af312c1113ab",
   "metadata": {},
   "outputs": [
    {
     "data": {
      "text/plain": [
       "<matplotlib.collections.PathCollection at 0x7fa4e3565210>"
      ]
     },
     "execution_count": 105,
     "metadata": {},
     "output_type": "execute_result"
    },
    {
     "data": {
      "image/png": "[encoded data removed]",
      "text/plain": [
       "<Figure size 864x216 with 2 Axes>"
      ]
     },
     "metadata": {
      "needs_background": "light"
     },
     "output_type": "display_data"
    }
   ],
   "source": [
    "vvmin = 0\n",
    "vvmax = 1.2\n",
    "\n",
    "fg,ax = plt.subplots(figsize=(12,3))\n",
    "outt.plot(vmin=vvmin,vmax=vvmax,cmap='Blues',ax=ax)\n",
    "ax.set_xlim(lon_range)\n",
    "ax.set_ylim(lat_range)\n",
    "\n",
    "ax.scatter(df_reproj.geometry.x,df_reproj.geometry.y,4,df_reproj.value/100,\n",
    "          vmin=vvmin,vmax=vvmax,cmap='Blues')"
   ]
  },
  {
   "cell_type": "code",
   "execution_count": null,
   "id": "fe931e38-4b51-49c0-9253-ed2813da6cad",
   "metadata": {},
   "outputs": [],
   "source": []
  },
  {
   "cell_type": "code",
   "execution_count": null,
   "id": "7194a8dd-815d-4b29-be09-d865a5856d98",
   "metadata": {},
   "outputs": [],
   "source": []
  },
  {
   "cell_type": "code",
   "execution_count": null,
   "id": "a775e76a-8766-486b-b2da-74a6432ed0c6",
   "metadata": {},
   "outputs": [],
   "source": [
    "df = dataIO_funcs.access_snowEx.access_pointData(db_name,time_sel,time_buffer_dy,var_name,lat_range,lon_range)"
   ]
  },
  {
   "cell_type": "code",
   "execution_count": null,
   "id": "44f9a1f9-0288-4d22-8b01-211fa536566c",
   "metadata": {},
   "outputs": [],
   "source": []
  },
  {
   "cell_type": "code",
   "execution_count": null,
   "id": "0b09d458-8e3e-42c4-bf90-4d2396ecde0c",
   "metadata": {},
   "outputs": [],
   "source": []
  },
  {
   "cell_type": "code",
   "execution_count": null,
   "id": "40cb3bea-7736-4c12-9d86-be56ea7764a2",
   "metadata": {},
   "outputs": [],
   "source": []
  },
  {
   "cell_type": "code",
   "execution_count": null,
   "id": "cf8b782c-f0c7-4149-ba4a-3db13912eb40",
   "metadata": {},
   "outputs": [],
   "source": []
  },
  {
   "cell_type": "code",
   "execution_count": null,
   "id": "08ff62b3-247f-49de-a808-d326d162e9ce",
   "metadata": {},
   "outputs": [],
   "source": []
  },
  {
   "cell_type": "markdown",
   "id": "4d9aca6d-595a-4a3c-b70d-1758d36a086d",
   "metadata": {},
   "source": [
    "# FOR PULLING SWESARR\n",
    "#### TAKES A LOOK AT ALL OF THE DATA AVAILABLE, THEN ATTAEMPTS TO PULL THE DATA THAT IS 'TIME_BUFFER_DY' FROM THE SPECIFIED DAY 'TIME_SEL'"
   ]
  },
  {
   "cell_type": "code",
   "execution_count": 3,
   "id": "5f3ce8e9-b319-4b04-b242-b6a4efd27073",
   "metadata": {
    "tags": []
   },
   "outputs": [
    {
     "ename": "AttributeError",
     "evalue": "module 'dataIO_funcs' has no attribute 'access_SWESAR'",
     "output_type": "error",
     "traceback": [
      "\u001b[0;31m---------------------------------------------------------------------------\u001b[0m",
      "\u001b[0;31mAttributeError\u001b[0m                            Traceback (most recent call last)",
      "Input \u001b[0;32mIn [3]\u001b[0m, in \u001b[0;36m<cell line: 2>\u001b[0;34m()\u001b[0m\n\u001b[1;32m      1\u001b[0m \u001b[38;5;66;03m# pull the dates that SWESARR occurred\u001b[39;00m\n\u001b[0;32m----> 2\u001b[0m \u001b[43mdataIO_funcs\u001b[49m\u001b[38;5;241;43m.\u001b[39;49m\u001b[43maccess_SWESAR\u001b[49m\n\u001b[1;32m      3\u001b[0m SWESARR_names,SWESARR_dates \u001b[38;5;241m=\u001b[39m dataIO_funcs\u001b[38;5;241m.\u001b[39maccess_SWESARR\u001b[38;5;241m.\u001b[39mget_url_paths(SWESARR_url)\n\u001b[1;32m      4\u001b[0m \u001b[38;5;28mprint\u001b[39m(SWESARR_names)\n",
      "\u001b[0;31mAttributeError\u001b[0m: module 'dataIO_funcs' has no attribute 'access_SWESAR'"
     ]
    }
   ],
   "source": [
    "# pull the dates that SWESARR occurred\n",
    "dataIO_funcs.access_SWESAR\n",
    "SWESARR_names,SWESARR_dates = dataIO_funcs.access_SWESARR.get_url_paths(SWESARR_url)\n",
    "print(SWESARR_names)"
   ]
  },
  {
   "cell_type": "code",
   "execution_count": 13,
   "id": "b2ae8fb2-6bf7-4df1-b992-42dea7c25497",
   "metadata": {
    "tags": []
   },
   "outputs": [
    {
     "name": "stdout",
     "output_type": "stream",
     "text": [
      "https://glihtdata.gsfc.nasa.gov/files/radar/SWESARR/prerelease//GRMCT2_13802_20006_012_200210_225_XX_01/\n",
      "https://glihtdata.gsfc.nasa.gov/files/radar/SWESARR/prerelease//GRMCT2_31601_20006_011_200210_225_XX_01/\n",
      "https://glihtdata.gsfc.nasa.gov/files/radar/SWESARR/prerelease//GRMNT1_09302_20006_009_200210_225_XX_01/\n",
      "https://glihtdata.gsfc.nasa.gov/files/radar/SWESARR/prerelease//GRMNT1_09401_20006_005_200210_225_XX_01/\n",
      "https://glihtdata.gsfc.nasa.gov/files/radar/SWESARR/prerelease//GRMST1_27302_20006_007_200210_225_XX_01/\n",
      "https://glihtdata.gsfc.nasa.gov/files/radar/SWESARR/prerelease//GRMST1_27501_20006_003_200210_225_XX_01/\n"
     ]
    },
    {
     "name": "stderr",
     "output_type": "stream",
     "text": [
      "wget: missing URL\n",
      "Usage: wget [OPTION]... [URL]...\n",
      "\n",
      "Try `wget --help' for more options.\n",
      "wget: missing URL\n",
      "Usage: wget [OPTION]... [URL]...\n",
      "\n",
      "Try `wget --help' for more options.\n",
      "wget: missing URL\n",
      "Usage: wget [OPTION]... [URL]...\n",
      "\n",
      "Try `wget --help' for more options.\n",
      "wget: missing URL\n",
      "Usage: wget [OPTION]... [URL]...\n",
      "\n",
      "Try `wget --help' for more options.\n",
      "wget: missing URL\n",
      "Usage: wget [OPTION]... [URL]...\n",
      "\n",
      "Try `wget --help' for more options.\n",
      "wget: missing URL\n",
      "Usage: wget [OPTION]... [URL]...\n",
      "\n",
      "Try `wget --help' for more options.\n"
     ]
    },
    {
     "ename": "FileNotFoundError",
     "evalue": "[Errno 2] No such file or directory: '/home/jovyan/model-eval/contributors/jupflug/GRMST1_27501_20006_003_200210_225_XX_01/'",
     "output_type": "error",
     "traceback": [
      "\u001b[0;31m---------------------------------------------------------------------------\u001b[0m",
      "\u001b[0;31mFileNotFoundError\u001b[0m                         Traceback (most recent call last)",
      "Input \u001b[0;32mIn [13]\u001b[0m, in \u001b[0;36m<cell line: 16>\u001b[0;34m()\u001b[0m\n\u001b[1;32m     13\u001b[0m     \u001b[38;5;66;03m# ! wget -r -np -nH --reject \"indexd.html*\" -e robots=off -r --no-parent -A \"*tif\" source_repo + flight_line\u001b[39;00m\n\u001b[1;32m     15\u001b[0m data_files \u001b[38;5;241m=\u001b[39m []\n\u001b[0;32m---> 16\u001b[0m \u001b[43mos\u001b[49m\u001b[38;5;241;43m.\u001b[39;49m\u001b[43mchdir\u001b[49m\u001b[43m(\u001b[49m\u001b[43mos\u001b[49m\u001b[38;5;241;43m.\u001b[39;49m\u001b[43mgetcwd\u001b[49m\u001b[43m(\u001b[49m\u001b[43m)\u001b[49m\u001b[43m \u001b[49m\u001b[38;5;241;43m+\u001b[39;49m\u001b[43m \u001b[49m\u001b[43mflight_line\u001b[49m\u001b[43m)\u001b[49m\n\u001b[1;32m     17\u001b[0m \u001b[38;5;28;01mfor\u001b[39;00m file \u001b[38;5;129;01min\u001b[39;00m glob\u001b[38;5;241m.\u001b[39mglob(\u001b[38;5;124m\"\u001b[39m\u001b[38;5;124m*.tif\u001b[39m\u001b[38;5;124m\"\u001b[39m):\n\u001b[1;32m     18\u001b[0m     data_files\u001b[38;5;241m.\u001b[39mappend(file)\n",
      "\u001b[0;31mFileNotFoundError\u001b[0m: [Errno 2] No such file or directory: '/home/jovyan/model-eval/contributors/jupflug/GRMST1_27501_20006_003_200210_225_XX_01/'"
     ]
    }
   ],
   "source": [
    "def date_between_prime(start_date, end_date, folder_date,folder_names):\n",
    "    result = [folder_names[i] for i in range(len(folder_date)) if (folder_date[i] >= start_date and folder_date[i] <= end_date)]\n",
    "    return result\n",
    "time_sel_newForm = dateutil.parser.parse(time_sel)\n",
    "start_date = time_sel_newForm-datetime.timedelta(days=time_buffer_dy)\n",
    "end_date = time_sel_newForm+datetime.timedelta(days=time_buffer_dy)\n",
    "\n",
    "final_files = date_between_prime(start_date, end_date, SWESARR_dates, SWESARR_names)\n",
    "for flight_line in final_files:\n",
    "    print(source_repo + flight_line)\n",
    "    # command = wget -r -np -nH --reject \"indexd.html*\" -e robots=off -r --no-parent -A \"*tif\" source_repo + flight_line\n",
    "    subprocess.Popen(['wget -r -np -nH --reject indexd.html* -e robots=off -r --no-parent -A *tif',source_repo+flight_line], shell=True)\n",
    "    # ! wget -r -np -nH --reject \"indexd.html*\" -e robots=off -r --no-parent -A \"*tif\" source_repo + flight_line\n",
    "    \n",
    "data_files = []\n",
    "os.chdir(os.getcwd() + flight_line)\n",
    "for file in glob.glob(\"*.tif\"):\n",
    "    data_files.append(file)\n",
    "    \n",
    "data_files = [data for data in data_files if data[-8:] != '_dem.tif']"
   ]
  },
  {
   "cell_type": "markdown",
   "id": "4a12307f-b92c-4c5a-b7cd-29c1873d3276",
   "metadata": {},
   "source": [
    "# LIS MODEL READ-IN\n",
    "#### READS IN THE DATA BASED ON THE LAT/LON/DATE CONSTRAINTS, PROVIDED THE MODEL VARIABLES OF FOCUS\n",
    "#### WE ALSO GIVE IT THE APPROXIMATE MODEL DX AND DY WE WANT TO MOVE TO WHEN CONVERTING TO A RECTANGULAR GRID"
   ]
  },
  {
   "cell_type": "code",
   "execution_count": 3,
   "id": "285ec4b2-3f8f-4019-a91c-0c2ed96da827",
   "metadata": {},
   "outputs": [],
   "source": [
    "ds_LIS = dataIO_funcs.access_LIS(lon_range,lat_range,time_sel,\n",
    "                             model_variable,LIS_path,dx,dy,'bilinear')"
   ]
  },
  {
   "cell_type": "code",
   "execution_count": 3,
   "id": "e0da2a4e-5a32-4746-8c99-7aaf6001d582",
   "metadata": {
    "collapsed": true,
    "jupyter": {
     "outputs_hidden": true
    },
    "tags": []
   },
   "outputs": [
    {
     "ename": "NameError",
     "evalue": "name 'ds_LIS' is not defined",
     "output_type": "error",
     "traceback": [
      "\u001b[0;31m---------------------------------------------------------------------------\u001b[0m",
      "\u001b[0;31mNameError\u001b[0m                                 Traceback (most recent call last)",
      "Input \u001b[0;32mIn [3]\u001b[0m, in \u001b[0;36m<cell line: 1>\u001b[0;34m()\u001b[0m\n\u001b[0;32m----> 1\u001b[0m \u001b[43mds_LIS\u001b[49m\n",
      "\u001b[0;31mNameError\u001b[0m: name 'ds_LIS' is not defined"
     ]
    }
   ],
   "source": [
    "ds_LIS"
   ]
  },
  {
   "cell_type": "markdown",
   "id": "a3658ce6-2cbb-4932-87b9-e263420d4dd4",
   "metadata": {},
   "source": [
    "# POINT AND LAYER DATA READ-IN"
   ]
  },
  {
   "cell_type": "code",
   "execution_count": 3,
   "id": "89f8e505-8168-414c-bd7b-7d0960d997a6",
   "metadata": {},
   "outputs": [
    {
     "name": "stdout",
     "output_type": "stream",
     "text": [
      "(datetime.date(2020, 2, 8),)\n",
      "(datetime.date(2020, 2, 9),)\n",
      "(datetime.date(2020, 2, 6),)\n",
      "(datetime.date(2020, 2, 10),)\n",
      "(datetime.date(2020, 2, 7),)\n",
      "[[-107.7, 38.8], [-107.5, 38.8], [-107.5, 38.9], [-107.7, 38.9]]\n"
     ]
    }
   ],
   "source": [
    "df = dataIO_funcs.access_snowEx.access_pointData(db_name,time_sel,time_buffer_dy,var_name,lat_range,lon_range)"
   ]
  },
  {
   "cell_type": "code",
   "execution_count": 26,
   "id": "77a035ff-6395-41e5-a084-17553b2a9658",
   "metadata": {},
   "outputs": [
    {
     "data": {
      "text/plain": [
       "{'Attribute': ['name1'],\n",
       " 'geometry': <shapely.geometry.polygon.Polygon at 0x7fa4e9abb550>}"
      ]
     },
     "execution_count": 26,
     "metadata": {},
     "output_type": "execute_result"
    }
   ],
   "source": [
    "df"
   ]
  },
  {
   "cell_type": "code",
   "execution_count": null,
   "id": "c12a1243-59f4-434d-8de4-e02be2159f58",
   "metadata": {},
   "outputs": [],
   "source": []
  },
  {
   "cell_type": "code",
   "execution_count": null,
   "id": "644ae774-7f22-44fb-8806-f8d40d4f6e33",
   "metadata": {},
   "outputs": [],
   "source": []
  },
  {
   "cell_type": "code",
   "execution_count": null,
   "id": "b900b300-39aa-430c-9018-058b07f80c12",
   "metadata": {},
   "outputs": [],
   "source": []
  },
  {
   "cell_type": "code",
   "execution_count": 24,
   "id": "d8734234-64f2-4f87-a641-cf1eb812fef0",
   "metadata": {},
   "outputs": [],
   "source": [
    "engine, session = get_db(db_name)\n",
    "pointDates = session.query(ImageData.date).distinct().all()\n"
   ]
  },
  {
   "cell_type": "code",
   "execution_count": 25,
   "id": "a065a086-323b-4746-8df5-78ec17018626",
   "metadata": {},
   "outputs": [
    {
     "data": {
      "text/plain": [
       "[(None,),\n",
       " (datetime.date(2020, 2, 13),),\n",
       " (datetime.date(2020, 2, 21),),\n",
       " (datetime.date(2020, 2, 12),),\n",
       " (datetime.date(2020, 1, 31),),\n",
       " (datetime.date(2020, 2, 1),),\n",
       " (datetime.date(2020, 2, 2),),\n",
       " (datetime.date(2020, 3, 11),)]"
      ]
     },
     "execution_count": 25,
     "metadata": {},
     "output_type": "execute_result"
    }
   ],
   "source": [
    "pointDates"
   ]
  },
  {
   "cell_type": "code",
   "execution_count": null,
   "id": "694b74c7-14ed-47b4-b226-b3b10d455a60",
   "metadata": {},
   "outputs": [],
   "source": []
  }
 ],
 "metadata": {
  "kernelspec": {
   "display_name": "Python 3 (ipykernel)",
   "language": "python",
   "name": "python3"
  },
  "language_info": {
   "codemirror_mode": {
    "name": "ipython",
    "version": 3
   },
   "file_extension": ".py",
   "mimetype": "text/x-python",
   "name": "python",
   "nbconvert_exporter": "python",
   "pygments_lexer": "ipython3",
   "version": "3.10.5"
  }
 },
 "nbformat": 4,
 "nbformat_minor": 5
}
