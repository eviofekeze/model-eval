{
 "cells": [
  {
   "cell_type": "code",
   "execution_count": 2,
   "id": "5e66ee33-eeac-4774-bd4c-ae06869e0bed",
   "metadata": {},
   "outputs": [],
   "source": [
    "import s3fs\n",
    "import xarray as xr\n",
    "import xesmf\n",
    "import numpy as np"
   ]
  },
  {
   "cell_type": "code",
   "execution_count": 3,
   "id": "6cdd59d3-c1fa-4094-9e4c-530dfce773e4",
   "metadata": {},
   "outputs": [],
   "source": [
    "# USER DEFINED INPUTS!\n",
    "# define the name of our S3 bucket\n",
    "bucket_name = 'eis-dh-hydro/SNOWEX-HACKWEEK'\n",
    "\n",
    "# define path to store on S3\n",
    "lis_output_s3_path_time_chunk = f's3://{bucket_name}/2022/ZARR/SURFACEMODEL/LIS_HIST_rechunkedV4.d01.zarr'\n",
    "lis_output_s3_path = f's3://{bucket_name}/2022/ZARR/SURFACEMODEL/LIS_HIST_default_chunks.d01.zarr/'\n",
    "\n",
    "# specify filters\n",
    "time_sel='2020-02-08'\n",
    "lat_range = [38.8, 39.2]\n",
    "lon_range = [-108.3, -107.5]\n",
    "model_variable = ['SM_SWE_inst','SM_SnowDepth_inst']\n",
    "dx = 0.001"
   ]
  },
  {
   "cell_type": "code",
   "execution_count": 4,
   "id": "bac1528d-0a48-4e4e-9313-8c9ff852b193",
   "metadata": {},
   "outputs": [],
   "source": [
    "# create S3 filesystem object\n",
    "s3 = s3fs.S3FileSystem(anon=False)\n",
    "\n",
    "# create key-value mapper for S3 object (required to read data stored on S3)\n",
    "lis_output_mapper = s3.get_mapper(lis_output_s3_path)\n",
    "lis_output_mapper_tc = s3.get_mapper(lis_output_s3_path_time_chunk)\n",
    "\n",
    "# open the dataset\n",
    "lis_output_ds = xr.open_zarr(lis_output_mapper, consolidated=True)\n",
    "# lis_output_ds_tc = xr.open_zarr(lis_output_mapper_tc, consolidated=True)"
   ]
  },
  {
   "cell_type": "code",
   "execution_count": 5,
   "id": "63bf8daa-56f3-45bd-8d26-95d368fca96b",
   "metadata": {},
   "outputs": [],
   "source": [
    "lis_output_ds = lis_output_ds.sel(time=time_sel)\n",
    "\n",
    "lis_output_ds = lis_output_ds.where((lis_output_ds.lat >=  lat_range[0]) & \n",
    "                                    (lis_output_ds.lat <= lat_range[1]) &\n",
    "                                    (lis_output_ds.lon >=  lon_range[0]) &\n",
    "                                    (lis_output_ds.lon <=  lon_range[1]) ,drop=True)"
   ]
  },
  {
   "cell_type": "code",
   "execution_count": 6,
   "id": "1f0678e6-1bfc-4e48-9b2d-b5595b84f4b9",
   "metadata": {},
   "outputs": [],
   "source": [
    "lis_output_ds = lis_output_ds.rename_dims({'east_west':'x','north_south':'y'})\n",
    "ds_out = xesmf.util.grid_2d(lis_output_ds['lon'].min(),lis_output_ds['lon'].max(),dx,\n",
    "                            lis_output_ds['lat'].min(),lis_output_ds['lat'].max(),dx)\n",
    "regridder = xesmf.Regridder(lis_output_ds,ds_out,\"bilinear\")\n",
    "outt = regridder(lis_output_ds[model_variable])"
   ]
  },
  {
   "cell_type": "code",
   "execution_count": 7,
   "id": "d5252df0-6fea-495c-b418-04c255130700",
   "metadata": {},
   "outputs": [],
   "source": [
    "out_reproj = outt.assign_coords({'longitude':outt['lon'][0,:],'latitude':outt['lat'][:,0]})\n",
    "out_reproj = out_reproj.rename({'x':'longitude','y':'latitude'})\n",
    "out_reproj = out_reproj.rio.write_crs(4326)"
   ]
  },
  {
   "cell_type": "code",
   "execution_count": 8,
   "id": "26a9d6f3-0933-444a-b4e8-740d0230f4b7",
   "metadata": {},
   "outputs": [],
   "source": [
    "from snowexsql.db import get_db # Import the function to get connect to the db\n",
    "from snowexsql.conversions import query_to_geopandas # Import a useful function to format that data into a dataframe \n",
    "from datetime import date # Import some tools to build dates\n",
    "\n",
    "from snowexsql.data import PointData # Import our class for the points table\n",
    "from snowexsql.data import LayerData # Import our LayerData\n",
    "\n",
    "import matplotlib.pyplot as plt\n",
    "import utm \n",
    "from geoalchemy2.shape import to_shape\n",
    "import pandas as pd\n",
    "import numpy as np"
   ]
  },
  {
   "cell_type": "code",
   "execution_count": 9,
   "id": "39c89b60-7195-4773-aebb-2e7afb453509",
   "metadata": {},
   "outputs": [],
   "source": [
    "# Connect to the database\n",
    "db_name = 'snow:hackweek@db.snowexdata.org/snowex' # This is what you will use for all of hackweek to access the db\n",
    "engine, session = get_db(db_name)"
   ]
  },
  {
   "cell_type": "code",
   "execution_count": 10,
   "id": "6297f9a8-98af-47cc-9726-de6da09f973b",
   "metadata": {},
   "outputs": [],
   "source": [
    "q = session.query(LayerData).filter(LayerData.type == 'density')\n",
    "df = query_to_geopandas(q, engine)"
   ]
  },
  {
   "cell_type": "code",
   "execution_count": 11,
   "id": "6985c0e5-158e-4db4-a0a4-4687419dabe6",
   "metadata": {},
   "outputs": [],
   "source": [
    "# Convert density to float\n",
    "df['value'] = df['value'].astype(float)"
   ]
  },
  {
   "cell_type": "code",
   "execution_count": 21,
   "id": "49fb8256-57d8-40b7-ab72-48a3d8b60afa",
   "metadata": {},
   "outputs": [],
   "source": [
    "# Calculate SWE\n",
    "swe_lambda = lambda row: row['value'] * (row['depth'] - row['bottom_depth']) / (100*1000)\n",
    "df['swe'] = df.apply(swe_lambda, axis=1)"
   ]
  },
  {
   "cell_type": "code",
   "execution_count": 22,
   "id": "dbb33553-e21b-408d-a189-1d78d16bd1d4",
   "metadata": {},
   "outputs": [],
   "source": [
    "sites = df['site_id'].unique().tolist()\n",
    "\n",
    "# Loop over data by site and date\n",
    "swe_values = []\n",
    "x_values = []\n",
    "y_values = []\n",
    "dates_list = []\n",
    "\n",
    "for site in sites:\n",
    "    ind1 = df['site_id'] == site\n",
    "    dates = df['date'][ind1].unique().tolist()\n",
    "\n",
    "    for date in dates:\n",
    "        # Grab all density at this site and date\n",
    "        ind2= df['date'] == date\n",
    "\n",
    "        profile = df[ind1 & ind2]\n",
    "        # Check if there is data on this date/site\n",
    "        if len(profile.index) > 0:\n",
    "            swe_values.append(profile['swe'].sum())\n",
    "            x_values.append(profile['geom'].iloc[0].x)\n",
    "            y_values.append(profile['geom'].iloc[0].y)\n",
    "            dates_list.append(date)"
   ]
  },
  {
   "cell_type": "code",
   "execution_count": 23,
   "id": "22000bc8-b856-4265-a40c-3e4b58fcedaf",
   "metadata": {},
   "outputs": [],
   "source": [
    "df_LayerData = pd.DataFrame(list(zip(swe_values, x_values, y_values, dates_list)),\n",
    "               columns =['swe', 'x', 'y', 'date'])"
   ]
  },
  {
   "cell_type": "code",
   "execution_count": 24,
   "id": "4b0d8545-bda8-4a21-8a92-97eb964b70c0",
   "metadata": {},
   "outputs": [],
   "source": [
    "lat_list = []\n",
    "long_list = []\n",
    "for i in range(len(df_LayerData)):\n",
    "    coord = utm.to_latlon(df_LayerData['x'][i], df_LayerData['y'][i], 12, 'N')\n",
    "    lat_list.append(coord[0])\n",
    "    long_list.append(coord[1])"
   ]
  },
  {
   "cell_type": "code",
   "execution_count": 25,
   "id": "cbdd4f68-efac-45b2-a4b5-3e1a92981a4d",
   "metadata": {},
   "outputs": [],
   "source": [
    "df_LayerData = pd.DataFrame(list(zip(swe_values, lat_list, long_list, dates_list)),\n",
    "               columns =['Measured SWE', 'latitude', 'longitude', 'date'])"
   ]
  },
  {
   "cell_type": "code",
   "execution_count": 26,
   "id": "865b49ba-78f4-485f-a016-913990aa6799",
   "metadata": {},
   "outputs": [],
   "source": [
    "## All data uploading up to this point"
   ]
  },
  {
   "cell_type": "code",
   "execution_count": 27,
   "id": "9b011ff8-b3d2-45fb-8803-e3c21281f20e",
   "metadata": {},
   "outputs": [],
   "source": [
    "def point_to_pointSWE(df,date,model_data):\n",
    "    \n",
    "    #Requires that model_data is already from the desired data\n",
    "    \n",
    "    \n",
    "    df['date']=pd.to_datetime(df['date']) #convert dates to date-time format\n",
    "    filtered_df = df.loc[(df['date'] == date)] #filter dataset for the desired dates\n",
    "    \n",
    "    #Find the model SWE values that match the point locations of the measured SWE values\n",
    "    SWE_model_values = []\n",
    "    for i in range(len(np.array(filtered_df.latitude))):\n",
    "        swe_val = model_data.sel(latitude=np.array(filtered_df.latitude)[i], longitude=np.array(filtered_df.longitude)[i], method=\"nearest\")\n",
    "        swe_val1 = swe_val['SM_SWE_inst'] #specify that we want the SWE value contained in this data set\n",
    "        SWE_SQ = swe_val1.squeeze().drop(['spatial_ref']) #get into format that can be converted to df\n",
    "        SWE_model_values.append(float(SWE_SQ)) #create array of matching SWE values point\n",
    "    \n",
    "        \n",
    "    filtered_df.insert(loc=1, column=\"Model SWE\", value=SWE_model_values) #append this to original df\n",
    "    \n",
    "    return filtered_df"
   ]
  },
  {
   "cell_type": "code",
   "execution_count": 28,
   "id": "e771b287-aea6-4154-b83a-a232664e8d11",
   "metadata": {},
   "outputs": [],
   "source": [
    "#Point to Point SWE results\n",
    "comparativedf = point_to_pointSWE(df_LayerData,'2020-02-08',out_reproj)\n",
    "comparativedf"
   ]
  },
  {
   "cell_type": "code",
   "execution_count": 37,
   "id": "2c0ef635-ca52-4a1f-ad0c-f4d86cf5c178",
   "metadata": {},
   "outputs": [
    {
     "data": {
      "text/plain": [
       "<AxesSubplot:xlabel='Measured SWE', ylabel='Model SWE'>"
      ]
     },
     "execution_count": 37,
     "metadata": {},
     "output_type": "execute_result"
    },
    {
     "data": {
      "image/png": "[encoded data removed]",
      "text/plain": [
       "<Figure size 432x288 with 1 Axes>"
      ]
     },
     "metadata": {
      "needs_background": "light"
     },
     "output_type": "display_data"
    }
   ],
   "source": [
    "#Scatter Plots Comparing Values\n",
    "comparativedf.plot('Measured SWE','Model SWE',kind='scatter')"
   ]
  },
  {
   "cell_type": "code",
   "execution_count": 35,
   "id": "cc39b2ff-0744-4b18-b6ea-0a4f6b7b2abd",
   "metadata": {},
   "outputs": [
    {
     "data": {
      "text/plain": [
       "<AxesSubplot:xlabel='latitude'>"
      ]
     },
     "execution_count": 35,
     "metadata": {},
     "output_type": "execute_result"
    },
    {
     "data": {
      "image/png": "[encoded data removed]",
      "text/plain": [
       "<Figure size 432x288 with 1 Axes>"
      ]
     },
     "metadata": {
      "needs_background": "light"
     },
     "output_type": "display_data"
    }
   ],
   "source": [
    "#Bar Graph Comparing Values\n",
    "comparativedf.plot(x='latitude',y=['Measured SWE','Model SWE'],kind='bar')"
   ]
  },
  {
   "cell_type": "code",
   "execution_count": 40,
   "id": "f31d4216-1653-41cf-81c2-a6cb31110622",
   "metadata": {},
   "outputs": [],
   "source": [
    "##WORK IN PROGRESS-- DO NOT USE\n",
    "\n",
    "def point_to_pointdepth(df,date,model_data):\n",
    "    \n",
    "    #Requires that model_data is already from the desired data\n",
    "    \n",
    "    \n",
    "    df['date']=pd.to_datetime(df['date']) #convert dates to date-time format\n",
    "    filtered_df = df.loc[(df['date'] == date)] #filter dataset for the desired dates\n",
    "    \n",
    "    #Find the model SWE values that match the point locations of the measured SWE values\n",
    "    depth_model_values = []\n",
    "    for i in range(len(np.array(filtered_df.latitude))):\n",
    "        swe_val = model_data.sel(latitude=np.array(filtered_df.latitude)[i], longitude=np.array(filtered_df.longitude)[i], method=\"nearest\")\n",
    "        swe_val1 = swe_val['SM_SnowDepth_inst'] #specify that we want the SWE value contained in this data set\n",
    "        SWE_SQ = swe_val1.squeeze().drop(['spatial_ref']) #get into format that can be converted to df\n",
    "        depth_model_values.append(float(SWE_SQ)) #create array of matching SWE values point\n",
    "    \n",
    "        \n",
    "    filtered_df.insert(loc=1, column=\"Model Depth\", value=depth_model_values) #append this to original df\n",
    "    \n",
    "    return filtered_df"
   ]
  },
  {
   "cell_type": "code",
   "execution_count": 39,
   "id": "6283947e-46ce-4ff2-8e53-f2d00b1c7845",
   "metadata": {},
   "outputs": [
    {
     "data": {
      "text/html": [
       "<div>\n",
       "<style scoped>\n",
       "    .dataframe tbody tr th:only-of-type {\n",
       "        vertical-align: middle;\n",
       "    }\n",
       "\n",
       "    .dataframe tbody tr th {\n",
       "        vertical-align: top;\n",
       "    }\n",
       "\n",
       "    .dataframe thead th {\n",
       "        text-align: right;\n",
       "    }\n",
       "</style>\n",
       "<table border=\"1\" class=\"dataframe\">\n",
       "  <thead>\n",
       "    <tr style=\"text-align: right;\">\n",
       "      <th></th>\n",
       "      <th>Measured SWE</th>\n",
       "      <th>Model SWE</th>\n",
       "      <th>latitude</th>\n",
       "      <th>longitude</th>\n",
       "      <th>date</th>\n",
       "    </tr>\n",
       "  </thead>\n",
       "  <tbody>\n",
       "    <tr>\n",
       "      <th>153</th>\n",
       "      <td>0.808600</td>\n",
       "      <td>0.569488</td>\n",
       "      <td>39.031466</td>\n",
       "      <td>-108.191575</td>\n",
       "      <td>2020-02-08</td>\n",
       "    </tr>\n",
       "    <tr>\n",
       "      <th>165</th>\n",
       "      <td>0.418675</td>\n",
       "      <td>0.608763</td>\n",
       "      <td>39.064288</td>\n",
       "      <td>-108.220239</td>\n",
       "      <td>2020-02-08</td>\n",
       "    </tr>\n",
       "    <tr>\n",
       "      <th>168</th>\n",
       "      <td>0.594233</td>\n",
       "      <td>0.677146</td>\n",
       "      <td>39.033415</td>\n",
       "      <td>-108.184233</td>\n",
       "      <td>2020-02-08</td>\n",
       "    </tr>\n",
       "    <tr>\n",
       "      <th>207</th>\n",
       "      <td>0.462533</td>\n",
       "      <td>0.666296</td>\n",
       "      <td>39.018772</td>\n",
       "      <td>-108.182250</td>\n",
       "      <td>2020-02-08</td>\n",
       "    </tr>\n",
       "    <tr>\n",
       "      <th>229</th>\n",
       "      <td>0.408767</td>\n",
       "      <td>0.627337</td>\n",
       "      <td>39.035644</td>\n",
       "      <td>-108.203481</td>\n",
       "      <td>2020-02-08</td>\n",
       "    </tr>\n",
       "    <tr>\n",
       "      <th>231</th>\n",
       "      <td>0.393600</td>\n",
       "      <td>0.633525</td>\n",
       "      <td>39.018660</td>\n",
       "      <td>-108.197788</td>\n",
       "      <td>2020-02-08</td>\n",
       "    </tr>\n",
       "    <tr>\n",
       "      <th>232</th>\n",
       "      <td>0.569233</td>\n",
       "      <td>0.513997</td>\n",
       "      <td>39.032387</td>\n",
       "      <td>-108.180127</td>\n",
       "      <td>2020-02-08</td>\n",
       "    </tr>\n",
       "    <tr>\n",
       "      <th>247</th>\n",
       "      <td>0.444467</td>\n",
       "      <td>0.619627</td>\n",
       "      <td>39.019948</td>\n",
       "      <td>-108.203396</td>\n",
       "      <td>2020-02-08</td>\n",
       "    </tr>\n",
       "    <tr>\n",
       "      <th>252</th>\n",
       "      <td>0.527333</td>\n",
       "      <td>0.670664</td>\n",
       "      <td>39.019752</td>\n",
       "      <td>-108.181784</td>\n",
       "      <td>2020-02-08</td>\n",
       "    </tr>\n",
       "    <tr>\n",
       "      <th>289</th>\n",
       "      <td>0.372500</td>\n",
       "      <td>0.589188</td>\n",
       "      <td>39.034623</td>\n",
       "      <td>-108.221437</td>\n",
       "      <td>2020-02-08</td>\n",
       "    </tr>\n",
       "  </tbody>\n",
       "</table>\n",
       "</div>"
      ],
      "text/plain": [
       "     Measured SWE  Model SWE   latitude   longitude       date\n",
       "153      0.808600   0.569488  39.031466 -108.191575 2020-02-08\n",
       "165      0.418675   0.608763  39.064288 -108.220239 2020-02-08\n",
       "168      0.594233   0.677146  39.033415 -108.184233 2020-02-08\n",
       "207      0.462533   0.666296  39.018772 -108.182250 2020-02-08\n",
       "229      0.408767   0.627337  39.035644 -108.203481 2020-02-08\n",
       "231      0.393600   0.633525  39.018660 -108.197788 2020-02-08\n",
       "232      0.569233   0.513997  39.032387 -108.180127 2020-02-08\n",
       "247      0.444467   0.619627  39.019948 -108.203396 2020-02-08\n",
       "252      0.527333   0.670664  39.019752 -108.181784 2020-02-08\n",
       "289      0.372500   0.589188  39.034623 -108.221437 2020-02-08"
      ]
     },
     "execution_count": 39,
     "metadata": {},
     "output_type": "execute_result"
    }
   ],
   "source": [
    "point_to_pointdepth(df_LayerData,'2020-02-08',out_reproj)"
   ]
  },
  {
   "cell_type": "code",
   "execution_count": null,
   "id": "806af334-fa03-455d-a225-05eeeeb97abd",
   "metadata": {},
   "outputs": [],
   "source": []
  }
 ],
 "metadata": {
  "kernelspec": {
   "display_name": "Python 3 (ipykernel)",
   "language": "python",
   "name": "python3"
  },
  "language_info": {
   "codemirror_mode": {
    "name": "ipython",
    "version": 3
   },
   "file_extension": ".py",
   "mimetype": "text/x-python",
   "name": "python",
   "nbconvert_exporter": "python",
   "pygments_lexer": "ipython3",
   "version": "3.10.5"
  }
 },
 "nbformat": 4,
 "nbformat_minor": 5
}
