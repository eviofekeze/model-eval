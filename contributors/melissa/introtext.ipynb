{
 "cells": [
  {
   "cell_type": "markdown",
   "id": "1f36d093-1615-4e69-b978-06c2f74ea188",
   "metadata": {},
   "source": [
    "# #Model-eval\n",
    "\n",
    "## team-members: \n",
    "Valerie Bevan, Cassia Cai, Evi Ofekeze, Steven Pestana, Justin Pflug, Engela Sthapit, Sveta Stuefer, Melissa Wrzesien\n",
    "\n",
    "## Motivation:\n",
    "Downloading and processing datasets for model evaluation can be time consuming due to having to manage different file formats, spatial extends, and study time periods. Here we present a tool box that allows a user to easily compare their model output to SnowEx field data.\n",
    "\n",
    "## Data and tools:\n",
    "### Datasets:\n",
    "* LIS-SnowModel model output\n",
    "* SnowEx datasets from the snowexsql database, including snow depths from magnaprobes, GPR, and lidar\n",
    "\n",
    "**Note on the model data**: Here we provide sample LIS-SnowModel output for a 100-m spatial resolution domain over Western Colorado. The code is written so that a user can swap out the sample code for their own model output, assuming similiar format to the standard LIS model output."
   ]
  },
  {
   "cell_type": "markdown",
   "id": "5c894705-0faf-4be0-87c2-5eaf39547955",
   "metadata": {},
   "source": [
    "### ADD A CELL EXPLAINING THE LIS DATA DOWNLOAD\n"
   ]
  },
  {
   "cell_type": "code",
   "execution_count": null,
   "id": "8f856e16-9050-45a0-b2c3-f26984cfab51",
   "metadata": {},
   "outputs": [],
   "source": []
  }
 ],
 "metadata": {
  "kernelspec": {
   "display_name": "Python 3 (ipykernel)",
   "language": "python",
   "name": "python3"
  },
  "language_info": {
   "codemirror_mode": {
    "name": "ipython",
    "version": 3
   },
   "file_extension": ".py",
   "mimetype": "text/x-python",
   "name": "python",
   "nbconvert_exporter": "python",
   "pygments_lexer": "ipython3",
   "version": "3.10.5"
  }
 },
 "nbformat": 4,
 "nbformat_minor": 5
}
