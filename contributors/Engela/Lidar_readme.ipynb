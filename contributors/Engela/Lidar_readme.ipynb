{
 "cells": [
  {
   "cell_type": "markdown",
   "id": "c34be3e8-0ea6-49eb-bc3a-146941a0ce67",
   "metadata": {},
   "source": [
    "## Motivation for using Lidar data\n",
    "\n",
    "Lidar has been identified as an important airborne remotely sensed dataset due to its accuracy in representing snow depth on the ground. It can be used to evaluate and validate numerical snow prediction models.\n",
    "\n",
    "# Introduction to obtaining Lidar data from the snowex database\n",
    "\n",
    "Lidar data is an Image Layer in the snowex database that can be queried from using the keywords - instrument, type, surveyors and by date. The instrument is 'lidar', type is 'depth' and  surveyor is 'ASO Inc.' \n",
    "\n",
    "## Useful python libraries and packages\n",
    "# Import the connection function from the snowexsql library\n",
    "from snowexsql.db import get_db\n",
    "# Import this to work with geospatial data in python\n",
    "import query_to_geopandas\n",
    "import rasterio\n",
    "# import this to use define sql functions (e.g. postgis!)\n",
    "from sqlalchemy.sql import func \n",
    "from geoalchemy2.types import Raster\n",
    "import geoalchemy2.functions as gfunc\n",
    "# Import this to convert to a rasterio object for easy plotting\n",
    "from snowexsql.conversions import raster_to_rasterio \n",
    "# Import some tools to build dates \n",
    "from datetime import date"
   ]
  }
 ],
 "metadata": {
  "kernelspec": {
   "display_name": "Python 3 (ipykernel)",
   "language": "python",
   "name": "python3"
  },
  "language_info": {
   "codemirror_mode": {
    "name": "ipython",
    "version": 3
   },
   "file_extension": ".py",
   "mimetype": "text/x-python",
   "name": "python",
   "nbconvert_exporter": "python",
   "pygments_lexer": "ipython3",
   "version": "3.10.5"
  }
 },
 "nbformat": 4,
 "nbformat_minor": 5
}
