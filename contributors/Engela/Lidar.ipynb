{
 "cells": [
  {
   "cell_type": "code",
   "execution_count": 1,
   "id": "29297574-41ba-4a2d-8e34-93e203965aa8",
   "metadata": {},
   "outputs": [],
   "source": [
    "# Import the connection function from the snowexsql library\n",
    "from snowexsql.db import get_db\n",
    "\n",
    "# This is what you will use for all of hackweek to access the db\n",
    "db_name = 'snow:hackweek@db.snowexdata.org/snowex'\n",
    "\n",
    "# Using the function get_db, we receive 2 ways to interact with the database\n",
    "engine, session = get_db(db_name)\n"
   ]
  },
  {
   "cell_type": "code",
   "execution_count": 2,
   "id": "cb7d8d5e-a57e-453f-b5e5-b5bfa7043b4b",
   "metadata": {},
   "outputs": [
    {
     "name": "stdout",
     "output_type": "stream",
     "text": [
      "8C18, 1C1, Open 6, 2S4, 2S7, 6N36, Skyway Open, 6S22, 2S6, 9S40, 9N30, 1N1, 9N47, 1N3, 9N29, 8N45, 9N39, 8C35, 1C5, 6N31, 3S33, 5N24, 3N53, 1C7, 7N40, SNB 2, 8N55, County Line Open, 6N18, 5C20, 5N10, 8N52, 2N21, 1N5, 6S32, GML, 1S1, 2C3, 8S41, JPL 1, Forest 14, 6S53, C1, 8C11, Open, 2C13, Open Flat, Joe Wright, 8N54, 7S23, 6N16, 8C31, Open 2, 5S42, Mesa West Open, 8N34, Upper, 6C37, 5S49, 9S39, 1S17, 2S35, 1C8, BA Flux Tower, 8N9, FL2A, 5S31, 8N38, 6S26, Caples Lake, Open 4, 2S46, 8S28, 8C36, 5N15, 2C33, 6N46, 3S14, 6S15, 8N35, Skyway Tree, TLSFL2A, 2N13, 3N26, 1S8, Saddle, Banner Open, 3S47, 3S52, 4N2, 2S9, 9S51, Trench 13, 6C24, Panorama Dome, 5C27, Senator Beck, 2S25, Swamp Angel, FL1B, 9N42, 1N6, JPL 2, 2S11, 2N8, 9N59, 1N7, 8C25, 3S5, 8N58, 9C28, 2S10, 2S45, 5C21, 5S24, 7S50, 2N49, 8C22, Forest 13, 2N14, 9C17, 5N19, 2C9, 5N50, 2N4, Mores Creek Summit, LDP Tree, 1C14, 2C2, CUES, SNB 1, 8S18, Michigan River, 7C15, Irwin Barn, 2S20, 1S12, 6S44, 2S48, 9C19, 9N43, 9N56, 9N44, 8S30, 8C26, 7N57, 3S38, 9C16, 5N11, 6S34, 4N27, Forest 12, 5S21, 2C12, 2N12, 9C23, 1S2, 3N22, 2N48, 2S3, 5S29, 8N25, 2C4, Forest North, 2C6, Forest, 2S37, 2S16, HQ Met Station, 1S13, Alta Collins, 4C30, County Line Tree, Bogus Upper, 2S36, 6S19, 8N37, Forest Flat, Atwater, LDP Open, 9N28, 1N23, Gothic, 6N17, 8N51, 1N20, Forest South, 5N41, 8C32, 5S43, 8N33, 5N32, 6C10, Tower 4, Banner Snotel, 2S27, Mesa West Trees, 6C34, Aspen, 8C29\n",
      "\n"
     ]
    }
   ],
   "source": [
    "# Form a typical SQL query and use python to populate the table name\n",
    "qry = \"SELECT DISTINCT site_id FROM sites\"\n",
    "\n",
    "# Then we execute the sql command and collect the results\n",
    "results = engine.execute(qry)\n",
    "\n",
    "# Create a nice readable string to print the site names using python \n",
    "out = ', '.join((row['site_id'] for row in results))\n",
    "\n",
    "# Print it with a line return for readability\n",
    "print(out + '\\n')"
   ]
  },
  {
   "cell_type": "code",
   "execution_count": 3,
   "id": "e636b23f-8680-424e-bd21-d1be8be6b7b0",
   "metadata": {},
   "outputs": [
    {
     "name": "stdout",
     "output_type": "stream",
     "text": [
      "Cameron Pass, Sagehen Creek, Fraser Experimental Forest, Mammoth Lakes, Niwot Ridge, Boise River Basin, Little Cottonwood Canyon, East River, American River Basin, Senator Beck, Jemez River, Grand Mesa\n"
     ]
    }
   ],
   "source": [
    "# Import the table classes from our data module which is where our ORM classes are defined \n",
    "from  snowexsql.data import SiteData\n",
    "\n",
    "# Form the query to receive all the ameite_id from the sites table\n",
    "qry = session.query(SiteData.site_name).distinct()\n",
    "\n",
    "# Execute the query and collect the results\n",
    "results = qry.all()\n",
    "\n",
    "# Print it with a line return for readability\n",
    "print(', '.join([row[0] for row in list(results)]))\n",
    "\n",
    "# Close your session to avoid hanging transactions\n",
    "session.close()"
   ]
  },
  {
   "cell_type": "code",
   "execution_count": 4,
   "id": "9e6a3429-2f6f-4fd6-a697-978f4b27703c",
   "metadata": {},
   "outputs": [],
   "source": [
    "from sqlalchemy import inspect"
   ]
  },
  {
   "cell_type": "code",
   "execution_count": 5,
   "id": "dc23c19d-77f8-430e-8432-8718a38fa8f4",
   "metadata": {},
   "outputs": [
    {
     "name": "stdout",
     "output_type": "stream",
     "text": [
      "['spatial_ref_sys', 'points', 'layers', 'sites', 'images']\n"
     ]
    }
   ],
   "source": [
    "# Using the function get_db, we receive 2 ways to interact with the database\n",
    "engine, session = get_db(db_name)\n",
    "\n",
    "# Output the list of tables in the database \n",
    "tables = inspect(engine).get_table_names()\n",
    "print(tables)\n",
    "\n",
    "session.close()"
   ]
  },
  {
   "cell_type": "code",
   "execution_count": 6,
   "id": "c5acfca0-497d-469f-9b5c-2795cb19ef31",
   "metadata": {},
   "outputs": [],
   "source": [
    "from snowexsql.data import PointData, LayerData, ImageData, SiteData"
   ]
  },
  {
   "cell_type": "code",
   "execution_count": 7,
   "id": "ece81199-7a99-4d8b-98db-bd8a0300e565",
   "metadata": {},
   "outputs": [
    {
     "name": "stdout",
     "output_type": "stream",
     "text": [
      "These are the available columns in the table:\n",
      " \n",
      "* date\n",
      "* date_accessed\n",
      "* description\n",
      "* doi\n",
      "* instrument\n",
      "* metadata\n",
      "* observers\n",
      "* raster\n",
      "* registry\n",
      "* site_name\n",
      "* time_created\n",
      "* time_updated\n",
      "* type\n",
      "* units\n",
      "\n"
     ]
    }
   ],
   "source": [
    "# Import the class reflecting the points table in the db\n",
    "from snowexsql.data import ImageData\n",
    "\n",
    "# Import the function to investigate a table\n",
    "from snowexsql.db import get_table_attributes\n",
    "\n",
    "# Use the function to see what columns are available to use. \n",
    "db_columns = get_table_attributes(ImageData)\n",
    "\n",
    "# Print out the results nicely\n",
    "print(\"These are the available columns in the table:\\n \\n* {}\\n\".format('\\n* '.join(db_columns)))\n"
   ]
  },
  {
   "cell_type": "code",
   "execution_count": null,
   "id": "a48bd933-d48f-4690-8694-574df94854c2",
   "metadata": {},
   "outputs": [
    {
     "name": "stdout",
     "output_type": "stream",
     "text": [
      "Available types = swe, DEM, insar amplitude, insar correlation, depth, insar interferogram real, insar interferogram imaginary\n",
      "\n",
      "Available Instruments = UAVSAR, L-band InSAR, lidar\n"
     ]
    }
   ],
   "source": [
    "# This is what you will use for all of hackweek to access the db\n",
    "engine, session = get_db(db_name)\n",
    "\n",
    "# Get the unique datanames in the table\n",
    "results = session.query(ImageData.type).distinct().all()\n",
    "print('Available types = {}'.format(', '.join([r[0] for r in results])))\n",
    "#ImageData.observers\n",
    "\n",
    "# Get the unique instrument in the table\n",
    "results = session.query(ImageData.instrument).distinct().all()\n",
    "print('\\nAvailable Instruments = {}'.format(', '.join([str(r[0]) for r in results])))\n",
    "\n",
    "# Get the unique dates in the table\n",
    "results = session.query(ImageData.date).distinct().all()\n",
    "print('\\nAvailable Dates = {}'.format(', '.join([str(r[0]) for r in results])))\n",
    "\n",
    "# Get the unique surveyors in the table\n",
    "results = session.query(ImageData.observers).distinct().all()\n",
    "print('\\nAvailable surveyors = {}'.format(', '.join([str(r[0]) for r in results])))\n",
    "\n",
    "session.close()"
   ]
  },
  {
   "cell_type": "code",
   "execution_count": null,
   "id": "310dae16-97a4-438b-b2c8-40711ba50afc",
   "metadata": {},
   "outputs": [],
   "source": [
    "# Import a useful function to format that data into a dataframe\n",
    "from snowexsql.conversions import query_to_geopandas\n",
    "\n",
    "import rasterio\n",
    "\n",
    "# Import some tools to build dates \n",
    "from datetime import date"
   ]
  },
  {
   "cell_type": "code",
   "execution_count": null,
   "id": "f2501189-3130-42fa-97e6-c2b04bd32e9c",
   "metadata": {},
   "outputs": [],
   "source": [
    "from snowexsql.data import ImageData\n",
    "\n",
    "# Grab a session\n",
    "engine, session = get_db(db_name)\n",
    "\n",
    "# What will this return?\n",
    "result = session.query(ImageData.raster).limit(1).all()\n",
    "\n",
    "print(type(result[0][0]))\n",
    "\n",
    "session.close()"
   ]
  },
  {
   "cell_type": "code",
   "execution_count": null,
   "id": "a34bbf5e-37ef-4cc7-b34c-074de9cce3d4",
   "metadata": {},
   "outputs": [],
   "source": [
    "# import this to use define sql functions (e.g. postgis!)\n",
    "from sqlalchemy.sql import func \n",
    "from geoalchemy2.types import Raster\n",
    "import geoalchemy2.functions as gfunc\n",
    "# Import this to convert to a rasterio object for easy plotting\n",
    "from snowexsql.conversions import raster_to_rasterio \n",
    "\n",
    "# Import a convenient function to plot with \n",
    "from rasterio.plot import show\n",
    "\n",
    "# Import some tools to build dates \n",
    "from datetime import date"
   ]
  },
  {
   "cell_type": "code",
   "execution_count": null,
   "id": "7407299c-dce1-41bd-bee6-4a1c1ed09826",
   "metadata": {},
   "outputs": [],
   "source": [
    "import matplotlib.pyplot as plt\n",
    "import rioxarray as xr"
   ]
  },
  {
   "cell_type": "code",
   "execution_count": null,
   "id": "58edfb0e-2ed7-457c-93b0-e800a055dd15",
   "metadata": {},
   "outputs": [],
   "source": [
    "# Grab a session\n",
    "engine, session = get_db(db_name)\n",
    "\n",
    "#Lets choose a site we want to grab a raster tile\n",
    "site_name = 'Grand Mesa'\n",
    "collection_date = date(2020, 2, 13)\n",
    "# Remember in the query parentheses is what we get back, in this case were asking for the raster data as a geotiff\n",
    "result = session.query(func.ST_AsTiff(gfunc.ST_Union(ImageData.raster, _type=Raster))).filter(SiteData.site_name == site_name).filter(ImageData.date == collection_date).filter(ImageData.instrument == 'lidar').filter(ImageData.type == 'depth')"
   ]
  },
  {
   "cell_type": "code",
   "execution_count": null,
   "id": "a02ed70a-1414-4601-affb-dbedc5224275",
   "metadata": {},
   "outputs": [],
   "source": [
    "# Now make it more available as a python object \n",
    "datasets = raster_to_rasterio(session, result)\n",
    "\n",
    "# Plot the georeferenced image \n",
    "show(datasets[0], vmax=1.2, vmin=0, cmap='winter')\n",
    "\n",
    "profile = datasets[0].profile\n",
    "\n",
    "# Write to a file \n",
    "with rasterio.open('lidar_depth.tif', 'w', **profile) as dst:\n",
    "    dst.write(datasets[0].read(1), 1)\n",
    "    \n",
    "# Close the dataset\n",
    "datasets[0].close()\n",
    "session.close()"
   ]
  },
  {
   "cell_type": "code",
   "execution_count": null,
   "id": "c8565b03-87af-46b6-966f-8ec60d398a87",
   "metadata": {},
   "outputs": [],
   "source": [
    "a=xr.open_rasterio(\"raster_depth.tif\")\n",
    "a"
   ]
  },
  {
   "cell_type": "code",
   "execution_count": null,
   "id": "ac04172d-8cb7-4fba-936d-65b7ff585391",
   "metadata": {},
   "outputs": [],
   "source": []
  }
 ],
 "metadata": {
  "kernelspec": {
   "display_name": "Python 3 (ipykernel)",
   "language": "python",
   "name": "python3"
  },
  "language_info": {
   "codemirror_mode": {
    "name": "ipython",
    "version": 3
   },
   "file_extension": ".py",
   "mimetype": "text/x-python",
   "name": "python",
   "nbconvert_exporter": "python",
   "pygments_lexer": "ipython3",
   "version": "3.10.5"
  }
 },
 "nbformat": 4,
 "nbformat_minor": 5
}
