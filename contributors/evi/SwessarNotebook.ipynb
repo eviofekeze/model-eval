{
 "cells": [
  {
   "cell_type": "markdown",
   "id": "95dfaf53-35eb-4973-a72d-b92aa82790da",
   "metadata": {},
   "source": [
    "# Loading SWESSAR Data"
   ]
  },
  {
   "cell_type": "code",
   "execution_count": null,
   "id": "81b45aa8-a644-4d2e-b82f-ba70878d4ec5",
   "metadata": {},
   "outputs": [],
   "source": [
    "# Import several libraries. \n",
    "# comments to the right could be useful for local installation on Windows.\n",
    "\n",
    "from shapely import speedups      # https://www.lfd.uci.edu/~gohlke/pythonlibs/\n",
    "speedups.disable()                # <-- handle a potential error in cartopy\n",
    "\n",
    "import requests                \n",
    "# !conda install -c anaconda requests \n",
    "\n",
    "# raster manipulation libraries\n",
    "import rasterio                   # https://www.lfd.uci.edu/~gohlke/pythonlibs/\n",
    "from osgeo import gdal            # https://www.lfd.uci.edu/~gohlke/pythonlibs/\n",
    "import cartopy.crs as ccrs        # https://www.lfd.uci.edu/~gohlke/pythonlibs/\n",
    "import rioxarray as rxr           # !conda install -c conda-forge rioxarray\n",
    "import xarray as xr               # !conda install -c conda-forge xarray dask netCDF4 bottleneck\n",
    "\n",
    "# plotting tools\n",
    "from matplotlib import pyplot     # !conda install matplotlib\n",
    "import datashader as ds           # https://www.lfd.uci.edu/~gohlke/pythonlibs/\n",
    "import hvplot.xarray              # !conda install hvplot\n",
    "\n",
    "# append the subfolders of the current working directory to pythons path\n",
    "\n",
    "import os\n",
    "import sys\n",
    "import glob\n",
    "\n",
    "swesarr_subdirs = [\"data\", \"util\"]\n",
    "tmp = [sys.path.append(os.getcwd() + \"/\" + sd) for sd in swesarr_subdirs]\n",
    "del tmp # suppress Jupyter notebook output, delete variable\n",
    "\n",
    "from helper import gdal_corners, join_files, join_sar_radiom"
   ]
  },
  {
   "cell_type": "code",
   "execution_count": null,
   "id": "98061197-6f62-409f-a122-a5e4a642db2e",
   "metadata": {},
   "outputs": [],
   "source": [
    "# select files to download\n",
    "\n",
    "# SWESARR data website\n",
    "source_repo = 'https://glihtdata.gsfc.nasa.gov/files/radar/SWESARR/prerelease/'\n",
    "\n",
    "#Flight line and date of interest\n",
    "flight_line = '/GRMCT2_31801_20007_016_200211_225_XX_01/'"
   ]
  },
  {
   "cell_type": "code",
   "execution_count": null,
   "id": "ed492e6e-de09-4a64-a394-e3c6a379e3a4",
   "metadata": {},
   "outputs": [],
   "source": [
    "! wget -r -np -nH --reject \"indexd.html*\" -e robots=off -r --no-parent -A \"*tif\" source_repo + flight_line"
   ]
  },
  {
   "cell_type": "code",
   "execution_count": null,
   "id": "0bf838db-f3f2-4d0e-8f77-1523330a85f8",
   "metadata": {},
   "outputs": [],
   "source": [
    "data_files = []\n",
    "os.chdir(os.getcwd() + '/files/radar/SWESARR/prerelease/' + flight_line)\n",
    "for file in glob.glob(\"*.tif\"):\n",
    "    data_files.append(file)"
   ]
  },
  {
   "cell_type": "code",
   "execution_count": null,
   "id": "b51ee8d4-9ac3-4405-8180-b163b825ff53",
   "metadata": {},
   "outputs": [],
   "source": [
    "data_files = [data for data in data_files if data[-8:] != '_dem.tif']"
   ]
  },
  {
   "cell_type": "code",
   "execution_count": null,
   "id": "953c862c-fb1f-49c4-92ba-fa4435125b99",
   "metadata": {},
   "outputs": [],
   "source": [
    "data_files"
   ]
  },
  {
   "cell_type": "markdown",
   "id": "36e2370f-9ec0-488d-8d5e-f81704e4b193",
   "metadata": {},
   "source": [
    "**User to specify specific data to be pull**"
   ]
  },
  {
   "cell_type": "code",
   "execution_count": null,
   "id": "c2b77120-e35a-47e1-a4b8-93dad163620f",
   "metadata": {},
   "outputs": [],
   "source": [
    "# store the location of the SAR tiles as they're located on the SWESARR data server\n",
    "remote_tiles = [source_repo + flight_line + d for d in data_files]\n",
    "\n",
    "# create local output data directory\n",
    "# output_dir = os.getcwd() + '/files/radar/SWESARR/prerelease/' + flight_line\n",
    "output_dir = os.getcwd() + '/'\n",
    "try:\n",
    "    os.makedirs(output_dir)\n",
    "except FileExistsError:\n",
    "    print('output directory prepared!')\n",
    "\n",
    "# store individual TIF files locally on our computer / server\n",
    "output_paths = [output_dir + d for d in data_files]"
   ]
  },
  {
   "cell_type": "code",
   "execution_count": null,
   "id": "133a21a2-2090-4686-81c5-e81f731bd6ba",
   "metadata": {},
   "outputs": [],
   "source": [
    "##    for each file selected, store the data locally \n",
    "##\n",
    "##    only run this block if you want to store data on the current \n",
    "##    server/hard drive this notebook is located.\n",
    "##\n",
    "################################################################\n",
    "\n",
    "for remote_tile, output_path in zip(remote_tiles, output_paths):\n",
    "    \n",
    "    # download data\n",
    "    r = requests.get(remote_tile)\n",
    "\n",
    "    # Store data (~= 65 MB/file)\n",
    "    if r.status_code == 200:\n",
    "        with open(output_path, 'wb') as f:\n",
    "            f.write(r.content)"
   ]
  },
  {
   "cell_type": "code",
   "execution_count": null,
   "id": "88fe77f5-766e-49d3-b481-0df0209c42a0",
   "metadata": {},
   "outputs": [],
   "source": [
    "output_paths"
   ]
  },
  {
   "cell_type": "code",
   "execution_count": null,
   "id": "b7570c52-352a-42ee-8d0a-db7b6b6ba308",
   "metadata": {},
   "outputs": [],
   "source": [
    "da = join_files(output_paths)\n",
    "da"
   ]
  },
  {
   "cell_type": "code",
   "execution_count": null,
   "id": "0f1f29ed-8317-4b4d-83de-657e9f9a266d",
   "metadata": {},
   "outputs": [],
   "source": [
    "# Set clim directly:\n",
    "clim=(-20,20)\n",
    "cmap='gray'\n",
    "crs = ccrs.UTM(zone='12') #12n\n",
    "tiles='OSM'\n",
    "tiles='EsriImagery'\n",
    "\n",
    "da.hvplot.image(x='x',y='y',groupby='band',cmap=cmap,clim=clim,rasterize=True,\n",
    "                       xlabel='Longitude',ylabel='Latitude',\n",
    "                       frame_height=500, frame_width=500,\n",
    "                       xformatter='%.1f',yformatter='%.1f', crs=crs, tiles=tiles, alpha=0.8)"
   ]
  },
  {
   "cell_type": "code",
   "execution_count": null,
   "id": "311bcd98-c44e-44b9-b74f-3a2ae9fd8c9d",
   "metadata": {},
   "outputs": [],
   "source": []
  }
 ],
 "metadata": {
  "kernelspec": {
   "display_name": "Python 3 (ipykernel)",
   "language": "python",
   "name": "python3"
  },
  "language_info": {
   "codemirror_mode": {
    "name": "ipython",
    "version": 3
   },
   "file_extension": ".py",
   "mimetype": "text/x-python",
   "name": "python",
   "nbconvert_exporter": "python",
   "pygments_lexer": "ipython3",
   "version": "3.10.5"
  }
 },
 "nbformat": 4,
 "nbformat_minor": 5
}
