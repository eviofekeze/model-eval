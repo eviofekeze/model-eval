{
 "cells": [
  {
   "cell_type": "code",
   "execution_count": 2,
   "id": "353b8082-fba5-4693-9455-144d6d54209a",
   "metadata": {},
   "outputs": [],
   "source": [
    "import requests\n",
    "from datetime import datetime\n",
    "from bs4 import BeautifulSoup"
   ]
  },
  {
   "cell_type": "code",
   "execution_count": 3,
   "id": "899a7f85-697e-49e4-9b92-7c4315495da7",
   "metadata": {},
   "outputs": [],
   "source": [
    "def get_url_paths(url, ext='', params={}):\n",
    "    \"\"\"\n",
    "    Funtion to extract list of folders in an online directory\n",
    "    INPUT:\n",
    "        url: Source url\n",
    "    OUTPUT:\n",
    "        List of folders in an online directory \n",
    "        Note this does not download any files\n",
    "    \"\"\"\n",
    "    response = requests.get(url, params=params)\n",
    "    if response.ok:\n",
    "        response_text = response.text\n",
    "    else:\n",
    "        return response.raise_for_status()\n",
    "    soup = BeautifulSoup(response_text, 'html.parser')\n",
    "    parent = [url + node.get('href') for node in soup.find_all('a') if node.get('href').endswith(ext)]\n",
    "    return parent\n",
    "\n",
    "url = 'https://glihtdata.gsfc.nasa.gov/files/radar/SWESARR/prerelease/'\n",
    "folder_names = get_url_paths(url)\n",
    "folder_names = folder_names[5:-1]\n",
    "folder_names = [name[62:] for name in folder_names]\n",
    "folder_date = [datetime.strptime(date[24:30] , '%y%m%d') for date in folder_names]\n",
    "# print(folder_date)"
   ]
  },
  {
   "cell_type": "code",
   "execution_count": 4,
   "id": "89c1a1c0-9c2c-4c11-b05c-31df075db9c2",
   "metadata": {},
   "outputs": [],
   "source": [
    "def date_between_prime(start_date, end_date, date_list):\n",
    "    result = [folder_names[i] for i in range(len(folder_date)) if (folder_date[i] >= start_date and folder_date[i] <= end_date)]\n",
    "    return result"
   ]
  },
  {
   "cell_type": "code",
   "execution_count": 5,
   "id": "adcebe37-e0bf-4517-95f6-8bff0c62afe0",
   "metadata": {},
   "outputs": [],
   "source": [
    "start_date = datetime(2020, 2, 1, 0, 0)\n",
    "end_date = datetime(2020, 2, 10, 0, 0)\n",
    "date_list = folder_date"
   ]
  },
  {
   "cell_type": "code",
   "execution_count": 6,
   "id": "2f03edf1-91df-4dbf-b097-1c16105013eb",
   "metadata": {},
   "outputs": [
    {
     "data": {
      "text/plain": [
       "['/GRMCT2_13802_20006_012_200210_225_XX_01/',\n",
       " '/GRMCT2_31601_20006_011_200210_225_XX_01/',\n",
       " '/GRMNT1_09302_20006_009_200210_225_XX_01/',\n",
       " '/GRMNT1_09401_20006_005_200210_225_XX_01/',\n",
       " '/GRMST1_27302_20006_007_200210_225_XX_01/',\n",
       " '/GRMST1_27501_20006_003_200210_225_XX_01/']"
      ]
     },
     "execution_count": 6,
     "metadata": {},
     "output_type": "execute_result"
    }
   ],
   "source": [
    "test = date_between_prime(start_date, end_date, date_list)\n",
    "test"
   ]
  },
  {
   "cell_type": "code",
   "execution_count": null,
   "id": "6854041b-c54a-4b5f-abfb-b815c65d9a53",
   "metadata": {},
   "outputs": [],
   "source": []
  }
 ],
 "metadata": {
  "kernelspec": {
   "display_name": "Python 3 (ipykernel)",
   "language": "python",
   "name": "python3"
  },
  "language_info": {
   "codemirror_mode": {
    "name": "ipython",
    "version": 3
   },
   "file_extension": ".py",
   "mimetype": "text/x-python",
   "name": "python",
   "nbconvert_exporter": "python",
   "pygments_lexer": "ipython3",
   "version": "3.10.5"
  }
 },
 "nbformat": 4,
 "nbformat_minor": 5
}
